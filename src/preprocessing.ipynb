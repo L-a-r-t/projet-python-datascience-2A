{
 "cells": [
  {
   "cell_type": "markdown",
   "metadata": {},
   "source": [
    "_Note préliminaire_ : Il est possible d'utiliser cudf.pandas pour accélérer les opérations tabulaires de Pandas sur GPU. La cellule ci-dessous est facultative, mais (une fois le code décommenté) elle installe et charge cuDF pour **CUDA 12** (version de CUDA utilisée par les GPU du Datalab SSP Cloud). Pour les versions adaptées à CUDA 11, se référer à la [documentation RAPIDS](https://docs.rapids.ai/install/)."
   ]
  },
  {
   "cell_type": "code",
   "execution_count": 1,
   "metadata": {
    "ExecuteTime": {
     "end_time": "2024-12-30T02:11:49.414640Z",
     "start_time": "2024-12-30T02:11:49.408640Z"
    }
   },
   "outputs": [
    {
     "name": "stdout",
     "output_type": "stream",
     "text": [
      "Looking in indexes: https://pypi.org/simple, https://pypi.nvidia.com\n",
      "Requirement already satisfied: cudf-cu12==24.12.* in /opt/conda/lib/python3.12/site-packages (24.12.0)\n",
      "Requirement already satisfied: dask-cudf-cu12==24.12.* in /opt/conda/lib/python3.12/site-packages (24.12.0)\n",
      "Requirement already satisfied: cuml-cu12==24.12.* in /opt/conda/lib/python3.12/site-packages (24.12.0)\n",
      "Requirement already satisfied: cugraph-cu12==24.12.* in /opt/conda/lib/python3.12/site-packages (24.12.0)\n",
      "Requirement already satisfied: cachetools in /opt/conda/lib/python3.12/site-packages (from cudf-cu12==24.12.*) (5.5.0)\n",
      "Requirement already satisfied: cuda-python<13.0a0,<=12.6.0,>=12.0 in /opt/conda/lib/python3.12/site-packages (from cudf-cu12==24.12.*) (12.6.0)\n",
      "Requirement already satisfied: cupy-cuda12x>=12.0.0 in /opt/conda/lib/python3.12/site-packages (from cudf-cu12==24.12.*) (13.3.0)\n",
      "Requirement already satisfied: fsspec>=0.6.0 in /opt/conda/lib/python3.12/site-packages (from cudf-cu12==24.12.*) (2024.10.0)\n",
      "Requirement already satisfied: libcudf-cu12==24.12.* in /opt/conda/lib/python3.12/site-packages (from cudf-cu12==24.12.*) (24.12.0)\n",
      "Requirement already satisfied: numba-cuda<0.0.18,>=0.0.13 in /opt/conda/lib/python3.12/site-packages (from cudf-cu12==24.12.*) (0.0.17.1)\n",
      "Requirement already satisfied: numpy<3.0a0,>=1.23 in /opt/conda/lib/python3.12/site-packages (from cudf-cu12==24.12.*) (2.0.2)\n",
      "Requirement already satisfied: nvtx>=0.2.1 in /opt/conda/lib/python3.12/site-packages (from cudf-cu12==24.12.*) (0.2.10)\n",
      "Requirement already satisfied: packaging in /opt/conda/lib/python3.12/site-packages (from cudf-cu12==24.12.*) (24.2)\n",
      "Requirement already satisfied: pandas<2.2.4dev0,>=2.0 in /opt/conda/lib/python3.12/site-packages (from cudf-cu12==24.12.*) (2.2.3)\n",
      "Requirement already satisfied: pyarrow<19.0.0a0,>=14.0.0 in /opt/conda/lib/python3.12/site-packages (from cudf-cu12==24.12.*) (18.1.0)\n",
      "Requirement already satisfied: pylibcudf-cu12==24.12.* in /opt/conda/lib/python3.12/site-packages (from cudf-cu12==24.12.*) (24.12.0)\n",
      "Requirement already satisfied: pynvjitlink-cu12 in /opt/conda/lib/python3.12/site-packages (from cudf-cu12==24.12.*) (0.4.0)\n",
      "Requirement already satisfied: rich in /opt/conda/lib/python3.12/site-packages (from cudf-cu12==24.12.*) (13.9.4)\n",
      "Requirement already satisfied: rmm-cu12==24.12.* in /opt/conda/lib/python3.12/site-packages (from cudf-cu12==24.12.*) (24.12.1)\n",
      "Requirement already satisfied: typing_extensions>=4.0.0 in /opt/conda/lib/python3.12/site-packages (from cudf-cu12==24.12.*) (4.12.2)\n",
      "Requirement already satisfied: pynvml<12.0.0a0,>=11.4.1 in /opt/conda/lib/python3.12/site-packages (from dask-cudf-cu12==24.12.*) (11.4.1)\n",
      "Requirement already satisfied: rapids-dask-dependency==24.12.* in /opt/conda/lib/python3.12/site-packages (from dask-cudf-cu12==24.12.*) (24.12.0)\n",
      "Requirement already satisfied: cuvs-cu12==24.12.* in /opt/conda/lib/python3.12/site-packages (from cuml-cu12==24.12.*) (24.12.0)\n",
      "Requirement already satisfied: dask-cuda==24.12.* in /opt/conda/lib/python3.12/site-packages (from cuml-cu12==24.12.*) (24.12.0)\n",
      "Requirement already satisfied: joblib>=0.11 in /opt/conda/lib/python3.12/site-packages (from cuml-cu12==24.12.*) (1.4.2)\n",
      "Requirement already satisfied: numba>=0.57 in /opt/conda/lib/python3.12/site-packages (from cuml-cu12==24.12.*) (0.60.0)\n",
      "Requirement already satisfied: nvidia-cublas-cu12 in /opt/conda/lib/python3.12/site-packages (from cuml-cu12==24.12.*) (12.6.4.1)\n",
      "Requirement already satisfied: nvidia-cufft-cu12 in /opt/conda/lib/python3.12/site-packages (from cuml-cu12==24.12.*) (11.3.0.4)\n",
      "Requirement already satisfied: nvidia-curand-cu12 in /opt/conda/lib/python3.12/site-packages (from cuml-cu12==24.12.*) (10.3.7.77)\n",
      "Requirement already satisfied: nvidia-cusolver-cu12 in /opt/conda/lib/python3.12/site-packages (from cuml-cu12==24.12.*) (11.7.1.2)\n",
      "Requirement already satisfied: nvidia-cusparse-cu12 in /opt/conda/lib/python3.12/site-packages (from cuml-cu12==24.12.*) (12.5.4.2)\n",
      "Requirement already satisfied: pylibraft-cu12==24.12.* in /opt/conda/lib/python3.12/site-packages (from cuml-cu12==24.12.*) (24.12.0)\n",
      "Requirement already satisfied: raft-dask-cu12==24.12.* in /opt/conda/lib/python3.12/site-packages (from cuml-cu12==24.12.*) (24.12.0)\n",
      "Requirement already satisfied: scipy>=1.8.0 in /opt/conda/lib/python3.12/site-packages (from cuml-cu12==24.12.*) (1.14.1)\n",
      "Requirement already satisfied: treelite==4.3.0 in /opt/conda/lib/python3.12/site-packages (from cuml-cu12==24.12.*) (4.3.0)\n",
      "Requirement already satisfied: pylibcugraph-cu12==24.12.* in /opt/conda/lib/python3.12/site-packages (from cugraph-cu12==24.12.*) (24.12.0)\n",
      "Requirement already satisfied: ucx-py-cu12==0.41.* in /opt/conda/lib/python3.12/site-packages (from cugraph-cu12==24.12.*) (0.41.0)\n",
      "Requirement already satisfied: click>=8.1 in /opt/conda/lib/python3.12/site-packages (from dask-cuda==24.12.*->cuml-cu12==24.12.*) (8.1.8)\n",
      "Requirement already satisfied: zict>=2.0.0 in /opt/conda/lib/python3.12/site-packages (from dask-cuda==24.12.*->cuml-cu12==24.12.*) (3.0.0)\n",
      "Requirement already satisfied: libkvikio-cu12==24.12.* in /opt/conda/lib/python3.12/site-packages (from libcudf-cu12==24.12.*->cudf-cu12==24.12.*) (24.12.1)\n",
      "Requirement already satisfied: nvidia-nvcomp-cu12==4.1.0.6 in /opt/conda/lib/python3.12/site-packages (from libcudf-cu12==24.12.*->cudf-cu12==24.12.*) (4.1.0.6)\n",
      "Requirement already satisfied: distributed-ucxx-cu12==0.41.* in /opt/conda/lib/python3.12/site-packages (from raft-dask-cu12==24.12.*->cuml-cu12==24.12.*) (0.41.0)\n",
      "Requirement already satisfied: dask==2024.11.2 in /opt/conda/lib/python3.12/site-packages (from rapids-dask-dependency==24.12.*->dask-cudf-cu12==24.12.*) (2024.11.2)\n",
      "Requirement already satisfied: distributed==2024.11.2 in /opt/conda/lib/python3.12/site-packages (from rapids-dask-dependency==24.12.*->dask-cudf-cu12==24.12.*) (2024.11.2)\n",
      "Requirement already satisfied: dask-expr==1.1.19 in /opt/conda/lib/python3.12/site-packages (from rapids-dask-dependency==24.12.*->dask-cudf-cu12==24.12.*) (1.1.19)\n",
      "Requirement already satisfied: libucx-cu12<1.18,>=1.15.0 in /opt/conda/lib/python3.12/site-packages (from ucx-py-cu12==0.41.*->cugraph-cu12==24.12.*) (1.17.0.post1)\n",
      "Requirement already satisfied: cloudpickle>=3.0.0 in /opt/conda/lib/python3.12/site-packages (from dask==2024.11.2->rapids-dask-dependency==24.12.*->dask-cudf-cu12==24.12.*) (3.1.0)\n",
      "Requirement already satisfied: partd>=1.4.0 in /opt/conda/lib/python3.12/site-packages (from dask==2024.11.2->rapids-dask-dependency==24.12.*->dask-cudf-cu12==24.12.*) (1.4.2)\n",
      "Requirement already satisfied: pyyaml>=5.3.1 in /opt/conda/lib/python3.12/site-packages (from dask==2024.11.2->rapids-dask-dependency==24.12.*->dask-cudf-cu12==24.12.*) (6.0.2)\n",
      "Requirement already satisfied: toolz>=0.10.0 in /opt/conda/lib/python3.12/site-packages (from dask==2024.11.2->rapids-dask-dependency==24.12.*->dask-cudf-cu12==24.12.*) (1.0.0)\n",
      "Requirement already satisfied: jinja2>=2.10.3 in /opt/conda/lib/python3.12/site-packages (from distributed==2024.11.2->rapids-dask-dependency==24.12.*->dask-cudf-cu12==24.12.*) (3.1.5)\n",
      "Requirement already satisfied: locket>=1.0.0 in /opt/conda/lib/python3.12/site-packages (from distributed==2024.11.2->rapids-dask-dependency==24.12.*->dask-cudf-cu12==24.12.*) (1.0.0)\n",
      "Requirement already satisfied: msgpack>=1.0.2 in /opt/conda/lib/python3.12/site-packages (from distributed==2024.11.2->rapids-dask-dependency==24.12.*->dask-cudf-cu12==24.12.*) (1.1.0)\n",
      "Requirement already satisfied: psutil>=5.8.0 in /opt/conda/lib/python3.12/site-packages (from distributed==2024.11.2->rapids-dask-dependency==24.12.*->dask-cudf-cu12==24.12.*) (6.1.0)\n",
      "Requirement already satisfied: sortedcontainers>=2.0.5 in /opt/conda/lib/python3.12/site-packages (from distributed==2024.11.2->rapids-dask-dependency==24.12.*->dask-cudf-cu12==24.12.*) (2.4.0)\n",
      "Requirement already satisfied: tblib>=1.6.0 in /opt/conda/lib/python3.12/site-packages (from distributed==2024.11.2->rapids-dask-dependency==24.12.*->dask-cudf-cu12==24.12.*) (3.0.0)\n",
      "Requirement already satisfied: tornado>=6.2.0 in /opt/conda/lib/python3.12/site-packages (from distributed==2024.11.2->rapids-dask-dependency==24.12.*->dask-cudf-cu12==24.12.*) (6.4.2)\n",
      "Requirement already satisfied: urllib3>=1.26.5 in /opt/conda/lib/python3.12/site-packages (from distributed==2024.11.2->rapids-dask-dependency==24.12.*->dask-cudf-cu12==24.12.*) (2.2.3)\n",
      "Requirement already satisfied: ucxx-cu12==0.41.* in /opt/conda/lib/python3.12/site-packages (from distributed-ucxx-cu12==0.41.*->raft-dask-cu12==24.12.*->cuml-cu12==24.12.*) (0.41.0)\n",
      "Requirement already satisfied: libucxx-cu12==0.41.* in /opt/conda/lib/python3.12/site-packages (from ucxx-cu12==0.41.*->distributed-ucxx-cu12==0.41.*->raft-dask-cu12==24.12.*->cuml-cu12==24.12.*) (0.41.0)\n",
      "Requirement already satisfied: fastrlock>=0.5 in /opt/conda/lib/python3.12/site-packages (from cupy-cuda12x>=12.0.0->cudf-cu12==24.12.*) (0.8.3)\n",
      "Requirement already satisfied: aiohttp!=4.0.0a0,!=4.0.0a1 in /opt/conda/lib/python3.12/site-packages (from fsspec[http]>=0.6.0->cugraph-cu12==24.12.*) (3.11.10)\n",
      "Requirement already satisfied: llvmlite<0.44,>=0.43.0dev0 in /opt/conda/lib/python3.12/site-packages (from numba>=0.57->cuml-cu12==24.12.*) (0.43.0)\n",
      "Requirement already satisfied: python-dateutil>=2.8.2 in /opt/conda/lib/python3.12/site-packages (from pandas<2.2.4dev0,>=2.0->cudf-cu12==24.12.*) (2.9.0.post0)\n",
      "Requirement already satisfied: pytz>=2020.1 in /opt/conda/lib/python3.12/site-packages (from pandas<2.2.4dev0,>=2.0->cudf-cu12==24.12.*) (2024.1)\n",
      "Requirement already satisfied: tzdata>=2022.7 in /opt/conda/lib/python3.12/site-packages (from pandas<2.2.4dev0,>=2.0->cudf-cu12==24.12.*) (2024.2)\n",
      "Requirement already satisfied: nvidia-nvjitlink-cu12 in /opt/conda/lib/python3.12/site-packages (from nvidia-cufft-cu12->cuml-cu12==24.12.*) (12.6.85)\n",
      "Requirement already satisfied: markdown-it-py>=2.2.0 in /opt/conda/lib/python3.12/site-packages (from rich->cudf-cu12==24.12.*) (3.0.0)\n",
      "Requirement already satisfied: pygments<3.0.0,>=2.13.0 in /opt/conda/lib/python3.12/site-packages (from rich->cudf-cu12==24.12.*) (2.18.0)\n",
      "Requirement already satisfied: aiohappyeyeballs>=2.3.0 in /opt/conda/lib/python3.12/site-packages (from aiohttp!=4.0.0a0,!=4.0.0a1->fsspec[http]>=0.6.0->cugraph-cu12==24.12.*) (2.4.4)\n",
      "Requirement already satisfied: aiosignal>=1.1.2 in /opt/conda/lib/python3.12/site-packages (from aiohttp!=4.0.0a0,!=4.0.0a1->fsspec[http]>=0.6.0->cugraph-cu12==24.12.*) (1.3.1)\n",
      "Requirement already satisfied: attrs>=17.3.0 in /opt/conda/lib/python3.12/site-packages (from aiohttp!=4.0.0a0,!=4.0.0a1->fsspec[http]>=0.6.0->cugraph-cu12==24.12.*) (24.2.0)\n",
      "Requirement already satisfied: frozenlist>=1.1.1 in /opt/conda/lib/python3.12/site-packages (from aiohttp!=4.0.0a0,!=4.0.0a1->fsspec[http]>=0.6.0->cugraph-cu12==24.12.*) (1.5.0)\n",
      "Requirement already satisfied: multidict<7.0,>=4.5 in /opt/conda/lib/python3.12/site-packages (from aiohttp!=4.0.0a0,!=4.0.0a1->fsspec[http]>=0.6.0->cugraph-cu12==24.12.*) (6.1.0)\n",
      "Requirement already satisfied: propcache>=0.2.0 in /opt/conda/lib/python3.12/site-packages (from aiohttp!=4.0.0a0,!=4.0.0a1->fsspec[http]>=0.6.0->cugraph-cu12==24.12.*) (0.2.1)\n",
      "Requirement already satisfied: yarl<2.0,>=1.17.0 in /opt/conda/lib/python3.12/site-packages (from aiohttp!=4.0.0a0,!=4.0.0a1->fsspec[http]>=0.6.0->cugraph-cu12==24.12.*) (1.18.3)\n",
      "Requirement already satisfied: mdurl~=0.1 in /opt/conda/lib/python3.12/site-packages (from markdown-it-py>=2.2.0->rich->cudf-cu12==24.12.*) (0.1.2)\n",
      "Requirement already satisfied: six>=1.5 in /opt/conda/lib/python3.12/site-packages (from python-dateutil>=2.8.2->pandas<2.2.4dev0,>=2.0->cudf-cu12==24.12.*) (1.17.0)\n",
      "Requirement already satisfied: MarkupSafe>=2.0 in /opt/conda/lib/python3.12/site-packages (from jinja2>=2.10.3->distributed==2024.11.2->rapids-dask-dependency==24.12.*->dask-cudf-cu12==24.12.*) (3.0.2)\n",
      "Requirement already satisfied: idna>=2.0 in /opt/conda/lib/python3.12/site-packages (from yarl<2.0,>=1.17.0->aiohttp!=4.0.0a0,!=4.0.0a1->fsspec[http]>=0.6.0->cugraph-cu12==24.12.*) (3.10)\n"
     ]
    }
   ],
   "source": [
    "!pip install --extra-index-url=https://pypi.nvidia.com cudf-cu12==24.12.* dask-cudf-cu12==24.12.* cuml-cu12==24.12.* cugraph-cu12==24.12.*\n",
    "\n",
    "%load_ext cudf.pandas"
   ]
  },
  {
   "cell_type": "markdown",
   "metadata": {},
   "source": [
    "La cellule ci-dessous installe les dépendances du projet."
   ]
  },
  {
   "cell_type": "code",
   "execution_count": 2,
   "metadata": {
    "ExecuteTime": {
     "end_time": "2024-12-30T02:11:53.789065Z",
     "start_time": "2024-12-30T02:11:50.827160Z"
    }
   },
   "outputs": [
    {
     "name": "stdout",
     "output_type": "stream",
     "text": [
      "\u001b[31mERROR: Ignored the following versions that require a different python version: 1.21.2 Requires-Python >=3.7,<3.11; 1.21.3 Requires-Python >=3.7,<3.11; 1.21.4 Requires-Python >=3.7,<3.11; 1.21.5 Requires-Python >=3.7,<3.11; 1.21.6 Requires-Python >=3.7,<3.11\u001b[0m\u001b[31m\n",
      "\u001b[0m\u001b[31mERROR: Could not find a version that satisfies the requirement pywin32==308 (from versions: none)\u001b[0m\u001b[31m\n",
      "\u001b[0m\u001b[31mERROR: No matching distribution found for pywin32==308\u001b[0m\u001b[31m\n",
      "\u001b[0m"
     ]
    }
   ],
   "source": [
    "!pip install -q -r ../requirements.txt"
   ]
  },
  {
   "cell_type": "markdown",
   "metadata": {},
   "source": [
    "# Pré-traitement des données\n",
    "\n",
    "Les données issues du scraping de l'API IDF Mobilités ne constituent pas un jeu de données en tant que tel. Le rôle de ce notebook est de transformer ces données brutes, stockées sur le SSP Cloud, en un jeu de données exploitable. Les fichiers JSON contiennent des informations sur les perturbations du réseau francilien, comme leurs causes, gravités et périodes d'application (il faut noter la quantité d'information donnée par l'API — les champs disponibles dans la réponse — varie d'une requête à une autre). Ces perturbations impactent certains objets, entités spécifiques du réseau : lignes de transport, ou arrêts sur ces lignes, permettant de localiser précisément les perturbations.\n",
    "\n",
    "On commence par importer les modules dont on aura besoin (notamment la configuration, json, pandas, tqdm pour avoir un suivi de la progression des opérations) et lister les chemins des fichiers JSON sur le S3 (résultats du scraping période)."
   ]
  },
  {
   "cell_type": "code",
   "execution_count": 3,
   "metadata": {
    "ExecuteTime": {
     "end_time": "2024-12-30T02:40:04.671280Z",
     "start_time": "2024-12-30T02:40:04.663812Z"
    }
   },
   "outputs": [],
   "source": [
    "import config\n",
    "import json\n",
    "import pandas as pd\n",
    "from tqdm import tqdm\n",
    "\n",
    "# Système de fichiers S3 configuré via config\n",
    "fs = config.fs\n",
    "\n",
    "# Récupération des chemins des fichiers .json dans le stockage S3\n",
    "file_paths = [fp for fp in fs.ls(config.MINIO_ROOT) if fp.endswith(\".json\")]\n",
    "\n",
    "# Initialisation des structures de données\n",
    "all_results = []  # Stocke toutes les dates de la requête\n",
    "all_disruptions = []  # Stocke tous les ID de perturbations\n",
    "all_objects = []  # Stocke tous les ID des objets impactés\n",
    "\n",
    "# Données finales à transformer en DataFrame\n",
    "results_data = []\n",
    "disruptions_data = []\n",
    "objects_data = []\n",
    "objects_disruptions_data = []\n",
    "\n",
    "# Ensembles pour éviter les doublons\n",
    "seen_results = set()              # last_updated\n",
    "seen_disruptions = set()          # (disruption_id, begin, end)\n",
    "seen_objects = set()              # object_id\n",
    "seen_objects_disruptions = set()  # (object_id, disruption_id)"
   ]
  },
  {
   "cell_type": "markdown",
   "metadata": {},
   "source": [
    "On va ensuite lire ces fichiers, filtrer les doublons, et structurer les données en trois tables principales : une pour les perturbations, une pour les objets impactés (lignes, stations), et une faisant la jointure entre les deux : un lien objet-perturbation, correspondant à une perturbation unique sur une période unique et pour un objet impacté unique. Ainsi, une perturbation sur deux périodes et impactant 3 objets (par exemple des travaux sur deux week-ends et affectant 3 lignes) correspondra à 6 liens objet-perturbation."
   ]
  },
  {
   "cell_type": "code",
   "execution_count": 4,
   "metadata": {
    "ExecuteTime": {
     "end_time": "2024-12-30T03:00:11.557945Z",
     "start_time": "2024-12-30T02:40:06.985320Z"
    }
   },
   "outputs": [
    {
     "name": "stderr",
     "output_type": "stream",
     "text": [
      "Traitement des fichiers JSON: 100%|██████████| 2357/2357 [02:47<00:00, 14.10fichier/s]\n"
     ]
    }
   ],
   "source": [
    "with tqdm(total=len(file_paths), desc=\"Traitement des fichiers JSON\", unit=\"fichier\") as pbar:\n",
    "    for file_path in file_paths:\n",
    "        try:\n",
    "            # Lecture du fichier JSON\n",
    "            with fs.open(file_path, \"r\", encoding=\"ascii\") as f:\n",
    "                data = json.loads(f.read())\n",
    "\n",
    "                # Extraction de la date de la requête\n",
    "                last_updated = data.get(\"lastUpdatedDate\", None)\n",
    "\n",
    "                all_results.append(last_updated)\n",
    "                if last_updated not in seen_results:\n",
    "                    seen_results.add(last_updated)\n",
    "                    results_data.append(last_updated)\n",
    "\n",
    "                # Traitement des perturbations\n",
    "                for d in data.get(\"disruptions\", []):\n",
    "                    disruption_id = d.get(\"id\")\n",
    "                    all_disruptions.append(disruption_id)\n",
    "                    for p in d.get(\"applicationPeriods\", []):\n",
    "                        key = (disruption_id, p.get(\"begin\"), p.get(\"end\"))\n",
    "                        if key not in seen_disruptions:\n",
    "                            seen_disruptions.add(key)\n",
    "                            disruptions_data.append({\n",
    "                                \"disruption_id\": disruption_id,\n",
    "                                \"begin\": p.get(\"begin\"),\n",
    "                                \"end\": p.get(\"end\"),\n",
    "                                \"lastUpdate\": d.get(\"lastUpdate\"),\n",
    "                                \"cause\": d.get(\"cause\"),\n",
    "                                \"severity\": d.get(\"severity\"),\n",
    "                                \"title\": d.get(\"title\"),\n",
    "                                \"message\": d.get(\"message\"),\n",
    "                                \"file_lastUpdatedDate\": last_updated,\n",
    "                            })\n",
    "\n",
    "                # Traitement des lignes et objets impactés\n",
    "                for l in data.get(\"lines\", []):\n",
    "                    line_info = {\n",
    "                        \"line_id\": l.get(\"id\"),\n",
    "                        \"line_name\": l.get(\"name\"),\n",
    "                        \"line_shortName\": l.get(\"shortName\"),\n",
    "                        \"line_mode\": l.get(\"mode\"),\n",
    "                        \"line_networkId\": l.get(\"networkId\"),\n",
    "                        \"file_lastUpdatedDate\": last_updated,\n",
    "                    }\n",
    "                    for o in l.get(\"impactedObjects\", []):\n",
    "                        object_id = o.get(\"id\")\n",
    "                        all_objects.append(object_id)\n",
    "                        if object_id not in seen_objects:\n",
    "                            seen_objects.add(object_id)\n",
    "                            objects_data.append({\n",
    "                                **line_info,\n",
    "                                \"object_id\": object_id,\n",
    "                                \"object_name\": o.get(\"name\"),\n",
    "                                \"object_type\": o.get(\"type\"),\n",
    "                            })\n",
    "\n",
    "                        for disruption_id in o.get(\"disruptionIds\", []):\n",
    "                            key = (object_id, disruption_id)\n",
    "                            if key not in seen_objects_disruptions:\n",
    "                                seen_objects_disruptions.add(key)\n",
    "                                objects_disruptions_data.append({\n",
    "                                    **line_info,\n",
    "                                    \"object_id\": object_id,\n",
    "                                    \"object_name\": o.get(\"name\"),\n",
    "                                    \"object_type\": o.get(\"type\"),\n",
    "                                    \"disruption_id\": disruption_id,\n",
    "                                })\n",
    "        except Exception as e:\n",
    "            print(f\"Une erreur est survenue avec le fichier : {file_path}\")\n",
    "            raise e\n",
    "        finally:\n",
    "            pbar.update(1)"
   ]
  },
  {
   "cell_type": "markdown",
   "metadata": {},
   "source": [
    "Les données ainsi nettoyées sont converties en DataFrames pandas. Créer des DataFrames plus rudimentaires puis les raffiner s'avère être un processus très complexe du fait d'objets imbriqués et de listes de longueurs variables dans nos données brutes. On affiche les comptes d'entités (doublons compris et éliminés) traités."
   ]
  },
  {
   "cell_type": "code",
   "execution_count": 5,
   "metadata": {
    "ExecuteTime": {
     "end_time": "2024-12-30T03:12:49.495619Z",
     "start_time": "2024-12-30T03:12:49.181575Z"
    }
   },
   "outputs": [
    {
     "name": "stdout",
     "output_type": "stream",
     "text": [
      "Résultats totaux (tous) : 2357\n",
      "Total de perturbations traitées (toutes) : 1724401\n",
      "Total d'objets impactés traités (tous) : 5476570\n",
      "#####################\n",
      "Résultats totaux (sans doublons) : 2357\n",
      "Total de perturbations traitées (sans doublons): 30177\n",
      "Total d'objets impactés traités (sans doublons) : 7570\n",
      "Total de liens objet-perturbation traités : 102807\n"
     ]
    }
   ],
   "source": [
    "df_disruptions = pd.DataFrame(disruptions_data)\n",
    "df_objects = pd.DataFrame(objects_data)\n",
    "df_objects_disruptions = pd.DataFrame(objects_disruptions_data)\n",
    "\n",
    "# Résumé final\n",
    "print(\"Résultats totaux (tous) :\", len(all_results))\n",
    "print(\"Total de perturbations traitées (toutes) :\", len(all_disruptions))\n",
    "print(\"Total d'objets impactés traités (tous) :\", len(all_objects))\n",
    "\n",
    "print(\"#####################\")\n",
    "\n",
    "print(\"Résultats totaux (sans doublons) :\", len(results_data))\n",
    "print(\"Total de perturbations traitées (sans doublons):\", len(disruptions_data))\n",
    "print(\"Total d'objets impactés traités (sans doublons) :\", len(objects_data))\n",
    "print(\"Total de liens objet-perturbation traités :\", len(objects_disruptions_data))"
   ]
  },
  {
   "cell_type": "markdown",
   "metadata": {},
   "source": [
    "On comprend ici que l'API IDF Mobilités est mise à jour plus régulièrement que notre fréquence de scraping (aucun doublon dans les résultats des appels API). Cela veut dire qu'il n'est pas impossible que nous ayons manqué des perturbations de très courte durée sur la période considérée. Nous garderons cela en tête pour l'analyse des données.\n",
    "\n",
    "La déduplication a toutefois été très importante pour les données sur les perturbations et sur les lignes, ce qui était attendu. Avec 19757 perturbations différentes dans notre jeu de données établi sur 3 semaines. Nous avons assez de données pour faire une analyse intéressante, bien que l'idéal serait de produire un outil permettant une analyse continue et automatisée des perturbations fournies par l'API. Avant tout, enregistrons ce jeu de données fraîchement généré."
   ]
  },
  {
   "cell_type": "code",
   "execution_count": 6,
   "metadata": {},
   "outputs": [],
   "source": [
    "df_objects_disruptions = df_objects_disruptions.merge(df_disruptions, on=[\"disruption_id\"])"
   ]
  },
  {
   "cell_type": "code",
   "execution_count": 7,
   "metadata": {
    "ExecuteTime": {
     "end_time": "2024-12-30T03:13:55.872275Z",
     "start_time": "2024-12-30T03:13:55.482275Z"
    }
   },
   "outputs": [
    {
     "name": "stderr",
     "output_type": "stream",
     "text": [
      "/opt/conda/lib/python3.12/site-packages/cudf/io/feather.py:26: UserWarning: Using CPU via PyArrow to write Feather dataset, this may be GPU accelerated in the future\n",
      "  warnings.warn(\n"
     ]
    }
   ],
   "source": [
    "df_disruptions.to_feather(\"data/disruptions.feather\")\n",
    "df_objects.to_feather(\"data/objects.feather\")\n",
    "df_objects_disruptions.to_feather(\"data/objects_disruptions.feather\")"
   ]
  }
 ],
 "metadata": {
  "kernelspec": {
   "display_name": "base",
   "language": "python",
   "name": "python3"
  },
  "language_info": {
   "codemirror_mode": {
    "name": "ipython",
    "version": 3
   },
   "file_extension": ".py",
   "mimetype": "text/x-python",
   "name": "python",
   "nbconvert_exporter": "python",
   "pygments_lexer": "ipython3",
   "version": "3.12.7"
  }
 },
 "nbformat": 4,
 "nbformat_minor": 2
}
