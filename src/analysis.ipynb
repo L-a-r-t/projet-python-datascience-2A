{
 "cells": [
  {
   "cell_type": "markdown",
   "metadata": {},
   "source": [
    "# Analyse des données\n",
    "\n",
    "Ce notebook est dédié à l'analyse du dataset généré depuis `data-processing.ipynb`. Nos objectifs sont :\n",
    "1. L'identification des lignes et des tronçons les plus problématiques sur le réseau IDF Mobilités\n",
    "2. L'identification des perturbations les plus fréquentes\n",
    "3. La mise en contexte socio-géographique de ces observations\n",
    "4. L'identification de potentiels problèmes dans la restitution des données par l'API IDF Mobilités"
   ]
  },
  {
   "cell_type": "markdown",
   "metadata": {},
   "source": [
    "## Imports"
   ]
  },
  {
   "cell_type": "code",
   "execution_count": 1,
   "metadata": {},
   "outputs": [
    {
     "name": "stdout",
     "output_type": "stream",
     "text": [
      "Looking in indexes: https://pypi.org/simple, https://pypi.nvidia.com\n",
      "Requirement already satisfied: cudf-cu12==24.12.* in /opt/conda/lib/python3.12/site-packages (24.12.0)\n",
      "Requirement already satisfied: dask-cudf-cu12==24.12.* in /opt/conda/lib/python3.12/site-packages (24.12.0)\n",
      "Requirement already satisfied: cuml-cu12==24.12.* in /opt/conda/lib/python3.12/site-packages (24.12.0)\n",
      "Requirement already satisfied: cugraph-cu12==24.12.* in /opt/conda/lib/python3.12/site-packages (24.12.0)\n",
      "Requirement already satisfied: cachetools in /opt/conda/lib/python3.12/site-packages (from cudf-cu12==24.12.*) (5.5.0)\n",
      "Requirement already satisfied: cuda-python<13.0a0,<=12.6.0,>=12.0 in /opt/conda/lib/python3.12/site-packages (from cudf-cu12==24.12.*) (12.6.0)\n",
      "Requirement already satisfied: cupy-cuda12x>=12.0.0 in /opt/conda/lib/python3.12/site-packages (from cudf-cu12==24.12.*) (13.3.0)\n",
      "Requirement already satisfied: fsspec>=0.6.0 in /opt/conda/lib/python3.12/site-packages (from cudf-cu12==24.12.*) (2024.10.0)\n",
      "Requirement already satisfied: libcudf-cu12==24.12.* in /opt/conda/lib/python3.12/site-packages (from cudf-cu12==24.12.*) (24.12.0)\n",
      "Requirement already satisfied: numba-cuda<0.0.18,>=0.0.13 in /opt/conda/lib/python3.12/site-packages (from cudf-cu12==24.12.*) (0.0.17.1)\n",
      "Requirement already satisfied: numpy<3.0a0,>=1.23 in /opt/conda/lib/python3.12/site-packages (from cudf-cu12==24.12.*) (2.0.2)\n",
      "Requirement already satisfied: nvtx>=0.2.1 in /opt/conda/lib/python3.12/site-packages (from cudf-cu12==24.12.*) (0.2.10)\n",
      "Requirement already satisfied: packaging in /opt/conda/lib/python3.12/site-packages (from cudf-cu12==24.12.*) (24.2)\n",
      "Requirement already satisfied: pandas<2.2.4dev0,>=2.0 in /opt/conda/lib/python3.12/site-packages (from cudf-cu12==24.12.*) (2.2.3)\n",
      "Requirement already satisfied: pyarrow<19.0.0a0,>=14.0.0 in /opt/conda/lib/python3.12/site-packages (from cudf-cu12==24.12.*) (18.1.0)\n",
      "Requirement already satisfied: pylibcudf-cu12==24.12.* in /opt/conda/lib/python3.12/site-packages (from cudf-cu12==24.12.*) (24.12.0)\n",
      "Requirement already satisfied: pynvjitlink-cu12 in /opt/conda/lib/python3.12/site-packages (from cudf-cu12==24.12.*) (0.4.0)\n",
      "Requirement already satisfied: rich in /opt/conda/lib/python3.12/site-packages (from cudf-cu12==24.12.*) (13.9.4)\n",
      "Requirement already satisfied: rmm-cu12==24.12.* in /opt/conda/lib/python3.12/site-packages (from cudf-cu12==24.12.*) (24.12.1)\n",
      "Requirement already satisfied: typing_extensions>=4.0.0 in /opt/conda/lib/python3.12/site-packages (from cudf-cu12==24.12.*) (4.12.2)\n",
      "Requirement already satisfied: pynvml<12.0.0a0,>=11.4.1 in /opt/conda/lib/python3.12/site-packages (from dask-cudf-cu12==24.12.*) (11.4.1)\n",
      "Requirement already satisfied: rapids-dask-dependency==24.12.* in /opt/conda/lib/python3.12/site-packages (from dask-cudf-cu12==24.12.*) (24.12.0)\n",
      "Requirement already satisfied: cuvs-cu12==24.12.* in /opt/conda/lib/python3.12/site-packages (from cuml-cu12==24.12.*) (24.12.0)\n",
      "Requirement already satisfied: dask-cuda==24.12.* in /opt/conda/lib/python3.12/site-packages (from cuml-cu12==24.12.*) (24.12.0)\n",
      "Requirement already satisfied: joblib>=0.11 in /opt/conda/lib/python3.12/site-packages (from cuml-cu12==24.12.*) (1.4.2)\n",
      "Requirement already satisfied: numba>=0.57 in /opt/conda/lib/python3.12/site-packages (from cuml-cu12==24.12.*) (0.60.0)\n",
      "Requirement already satisfied: nvidia-cublas-cu12 in /opt/conda/lib/python3.12/site-packages (from cuml-cu12==24.12.*) (12.6.4.1)\n",
      "Requirement already satisfied: nvidia-cufft-cu12 in /opt/conda/lib/python3.12/site-packages (from cuml-cu12==24.12.*) (11.3.0.4)\n",
      "Requirement already satisfied: nvidia-curand-cu12 in /opt/conda/lib/python3.12/site-packages (from cuml-cu12==24.12.*) (10.3.7.77)\n",
      "Requirement already satisfied: nvidia-cusolver-cu12 in /opt/conda/lib/python3.12/site-packages (from cuml-cu12==24.12.*) (11.7.1.2)\n",
      "Requirement already satisfied: nvidia-cusparse-cu12 in /opt/conda/lib/python3.12/site-packages (from cuml-cu12==24.12.*) (12.5.4.2)\n",
      "Requirement already satisfied: pylibraft-cu12==24.12.* in /opt/conda/lib/python3.12/site-packages (from cuml-cu12==24.12.*) (24.12.0)\n",
      "Requirement already satisfied: raft-dask-cu12==24.12.* in /opt/conda/lib/python3.12/site-packages (from cuml-cu12==24.12.*) (24.12.0)\n",
      "Requirement already satisfied: scipy>=1.8.0 in /opt/conda/lib/python3.12/site-packages (from cuml-cu12==24.12.*) (1.14.1)\n",
      "Requirement already satisfied: treelite==4.3.0 in /opt/conda/lib/python3.12/site-packages (from cuml-cu12==24.12.*) (4.3.0)\n",
      "Requirement already satisfied: pylibcugraph-cu12==24.12.* in /opt/conda/lib/python3.12/site-packages (from cugraph-cu12==24.12.*) (24.12.0)\n",
      "Requirement already satisfied: ucx-py-cu12==0.41.* in /opt/conda/lib/python3.12/site-packages (from cugraph-cu12==24.12.*) (0.41.0)\n",
      "Requirement already satisfied: click>=8.1 in /opt/conda/lib/python3.12/site-packages (from dask-cuda==24.12.*->cuml-cu12==24.12.*) (8.1.8)\n",
      "Requirement already satisfied: zict>=2.0.0 in /opt/conda/lib/python3.12/site-packages (from dask-cuda==24.12.*->cuml-cu12==24.12.*) (3.0.0)\n",
      "Requirement already satisfied: libkvikio-cu12==24.12.* in /opt/conda/lib/python3.12/site-packages (from libcudf-cu12==24.12.*->cudf-cu12==24.12.*) (24.12.1)\n",
      "Requirement already satisfied: nvidia-nvcomp-cu12==4.1.0.6 in /opt/conda/lib/python3.12/site-packages (from libcudf-cu12==24.12.*->cudf-cu12==24.12.*) (4.1.0.6)\n",
      "Requirement already satisfied: distributed-ucxx-cu12==0.41.* in /opt/conda/lib/python3.12/site-packages (from raft-dask-cu12==24.12.*->cuml-cu12==24.12.*) (0.41.0)\n",
      "Requirement already satisfied: dask==2024.11.2 in /opt/conda/lib/python3.12/site-packages (from rapids-dask-dependency==24.12.*->dask-cudf-cu12==24.12.*) (2024.11.2)\n",
      "Requirement already satisfied: distributed==2024.11.2 in /opt/conda/lib/python3.12/site-packages (from rapids-dask-dependency==24.12.*->dask-cudf-cu12==24.12.*) (2024.11.2)\n",
      "Requirement already satisfied: dask-expr==1.1.19 in /opt/conda/lib/python3.12/site-packages (from rapids-dask-dependency==24.12.*->dask-cudf-cu12==24.12.*) (1.1.19)\n",
      "Requirement already satisfied: libucx-cu12<1.18,>=1.15.0 in /opt/conda/lib/python3.12/site-packages (from ucx-py-cu12==0.41.*->cugraph-cu12==24.12.*) (1.17.0.post1)\n",
      "Requirement already satisfied: cloudpickle>=3.0.0 in /opt/conda/lib/python3.12/site-packages (from dask==2024.11.2->rapids-dask-dependency==24.12.*->dask-cudf-cu12==24.12.*) (3.1.0)\n",
      "Requirement already satisfied: partd>=1.4.0 in /opt/conda/lib/python3.12/site-packages (from dask==2024.11.2->rapids-dask-dependency==24.12.*->dask-cudf-cu12==24.12.*) (1.4.2)\n",
      "Requirement already satisfied: pyyaml>=5.3.1 in /opt/conda/lib/python3.12/site-packages (from dask==2024.11.2->rapids-dask-dependency==24.12.*->dask-cudf-cu12==24.12.*) (6.0.2)\n",
      "Requirement already satisfied: toolz>=0.10.0 in /opt/conda/lib/python3.12/site-packages (from dask==2024.11.2->rapids-dask-dependency==24.12.*->dask-cudf-cu12==24.12.*) (1.0.0)\n",
      "Requirement already satisfied: jinja2>=2.10.3 in /opt/conda/lib/python3.12/site-packages (from distributed==2024.11.2->rapids-dask-dependency==24.12.*->dask-cudf-cu12==24.12.*) (3.1.5)\n",
      "Requirement already satisfied: locket>=1.0.0 in /opt/conda/lib/python3.12/site-packages (from distributed==2024.11.2->rapids-dask-dependency==24.12.*->dask-cudf-cu12==24.12.*) (1.0.0)\n",
      "Requirement already satisfied: msgpack>=1.0.2 in /opt/conda/lib/python3.12/site-packages (from distributed==2024.11.2->rapids-dask-dependency==24.12.*->dask-cudf-cu12==24.12.*) (1.1.0)\n",
      "Requirement already satisfied: psutil>=5.8.0 in /opt/conda/lib/python3.12/site-packages (from distributed==2024.11.2->rapids-dask-dependency==24.12.*->dask-cudf-cu12==24.12.*) (6.1.0)\n",
      "Requirement already satisfied: sortedcontainers>=2.0.5 in /opt/conda/lib/python3.12/site-packages (from distributed==2024.11.2->rapids-dask-dependency==24.12.*->dask-cudf-cu12==24.12.*) (2.4.0)\n",
      "Requirement already satisfied: tblib>=1.6.0 in /opt/conda/lib/python3.12/site-packages (from distributed==2024.11.2->rapids-dask-dependency==24.12.*->dask-cudf-cu12==24.12.*) (3.0.0)\n",
      "Requirement already satisfied: tornado>=6.2.0 in /opt/conda/lib/python3.12/site-packages (from distributed==2024.11.2->rapids-dask-dependency==24.12.*->dask-cudf-cu12==24.12.*) (6.4.2)\n",
      "Requirement already satisfied: urllib3>=1.26.5 in /opt/conda/lib/python3.12/site-packages (from distributed==2024.11.2->rapids-dask-dependency==24.12.*->dask-cudf-cu12==24.12.*) (2.2.3)\n",
      "Requirement already satisfied: ucxx-cu12==0.41.* in /opt/conda/lib/python3.12/site-packages (from distributed-ucxx-cu12==0.41.*->raft-dask-cu12==24.12.*->cuml-cu12==24.12.*) (0.41.0)\n",
      "Requirement already satisfied: libucxx-cu12==0.41.* in /opt/conda/lib/python3.12/site-packages (from ucxx-cu12==0.41.*->distributed-ucxx-cu12==0.41.*->raft-dask-cu12==24.12.*->cuml-cu12==24.12.*) (0.41.0)\n",
      "Requirement already satisfied: fastrlock>=0.5 in /opt/conda/lib/python3.12/site-packages (from cupy-cuda12x>=12.0.0->cudf-cu12==24.12.*) (0.8.3)\n",
      "Requirement already satisfied: aiohttp!=4.0.0a0,!=4.0.0a1 in /opt/conda/lib/python3.12/site-packages (from fsspec[http]>=0.6.0->cugraph-cu12==24.12.*) (3.11.10)\n",
      "Requirement already satisfied: llvmlite<0.44,>=0.43.0dev0 in /opt/conda/lib/python3.12/site-packages (from numba>=0.57->cuml-cu12==24.12.*) (0.43.0)\n",
      "Requirement already satisfied: python-dateutil>=2.8.2 in /opt/conda/lib/python3.12/site-packages (from pandas<2.2.4dev0,>=2.0->cudf-cu12==24.12.*) (2.9.0.post0)\n",
      "Requirement already satisfied: pytz>=2020.1 in /opt/conda/lib/python3.12/site-packages (from pandas<2.2.4dev0,>=2.0->cudf-cu12==24.12.*) (2024.1)\n",
      "Requirement already satisfied: tzdata>=2022.7 in /opt/conda/lib/python3.12/site-packages (from pandas<2.2.4dev0,>=2.0->cudf-cu12==24.12.*) (2024.2)\n",
      "Requirement already satisfied: nvidia-nvjitlink-cu12 in /opt/conda/lib/python3.12/site-packages (from nvidia-cufft-cu12->cuml-cu12==24.12.*) (12.6.85)\n",
      "Requirement already satisfied: markdown-it-py>=2.2.0 in /opt/conda/lib/python3.12/site-packages (from rich->cudf-cu12==24.12.*) (3.0.0)\n",
      "Requirement already satisfied: pygments<3.0.0,>=2.13.0 in /opt/conda/lib/python3.12/site-packages (from rich->cudf-cu12==24.12.*) (2.18.0)\n",
      "Requirement already satisfied: aiohappyeyeballs>=2.3.0 in /opt/conda/lib/python3.12/site-packages (from aiohttp!=4.0.0a0,!=4.0.0a1->fsspec[http]>=0.6.0->cugraph-cu12==24.12.*) (2.4.4)\n",
      "Requirement already satisfied: aiosignal>=1.1.2 in /opt/conda/lib/python3.12/site-packages (from aiohttp!=4.0.0a0,!=4.0.0a1->fsspec[http]>=0.6.0->cugraph-cu12==24.12.*) (1.3.1)\n",
      "Requirement already satisfied: attrs>=17.3.0 in /opt/conda/lib/python3.12/site-packages (from aiohttp!=4.0.0a0,!=4.0.0a1->fsspec[http]>=0.6.0->cugraph-cu12==24.12.*) (24.2.0)\n",
      "Requirement already satisfied: frozenlist>=1.1.1 in /opt/conda/lib/python3.12/site-packages (from aiohttp!=4.0.0a0,!=4.0.0a1->fsspec[http]>=0.6.0->cugraph-cu12==24.12.*) (1.5.0)\n",
      "Requirement already satisfied: multidict<7.0,>=4.5 in /opt/conda/lib/python3.12/site-packages (from aiohttp!=4.0.0a0,!=4.0.0a1->fsspec[http]>=0.6.0->cugraph-cu12==24.12.*) (6.1.0)\n",
      "Requirement already satisfied: propcache>=0.2.0 in /opt/conda/lib/python3.12/site-packages (from aiohttp!=4.0.0a0,!=4.0.0a1->fsspec[http]>=0.6.0->cugraph-cu12==24.12.*) (0.2.1)\n",
      "Requirement already satisfied: yarl<2.0,>=1.17.0 in /opt/conda/lib/python3.12/site-packages (from aiohttp!=4.0.0a0,!=4.0.0a1->fsspec[http]>=0.6.0->cugraph-cu12==24.12.*) (1.18.3)\n",
      "Requirement already satisfied: mdurl~=0.1 in /opt/conda/lib/python3.12/site-packages (from markdown-it-py>=2.2.0->rich->cudf-cu12==24.12.*) (0.1.2)\n",
      "Requirement already satisfied: six>=1.5 in /opt/conda/lib/python3.12/site-packages (from python-dateutil>=2.8.2->pandas<2.2.4dev0,>=2.0->cudf-cu12==24.12.*) (1.17.0)\n",
      "Requirement already satisfied: MarkupSafe>=2.0 in /opt/conda/lib/python3.12/site-packages (from jinja2>=2.10.3->distributed==2024.11.2->rapids-dask-dependency==24.12.*->dask-cudf-cu12==24.12.*) (3.0.2)\n",
      "Requirement already satisfied: idna>=2.0 in /opt/conda/lib/python3.12/site-packages (from yarl<2.0,>=1.17.0->aiohttp!=4.0.0a0,!=4.0.0a1->fsspec[http]>=0.6.0->cugraph-cu12==24.12.*) (3.10)\n"
     ]
    }
   ],
   "source": [
    "# On utilise cudf.pandas pour accélérer les opérations Pandas sur GPU, optionnel\n",
    "\n",
    "!pip install \\\n",
    "  --extra-index-url=https://pypi.nvidia.com \\\n",
    "  cudf-cu12==24.12.* \\\n",
    "  dask-cudf-cu12==24.12.* \\\n",
    "  cuml-cu12==24.12.* \\\n",
    "  cugraph-cu12==24.12.*\n",
    "\n",
    "%load_ext cudf.pandas"
   ]
  },
  {
   "cell_type": "code",
   "execution_count": 2,
   "metadata": {},
   "outputs": [
    {
     "name": "stdout",
     "output_type": "stream",
     "text": [
      "Requirement already satisfied: aiobotocore==2.15.2 in /opt/conda/lib/python3.12/site-packages (from -r requirements.txt (line 1)) (2.15.2)\n",
      "Requirement already satisfied: aiohappyeyeballs==2.4.4 in /opt/conda/lib/python3.12/site-packages (from -r requirements.txt (line 2)) (2.4.4)\n",
      "Requirement already satisfied: aiohttp==3.11.10 in /opt/conda/lib/python3.12/site-packages (from -r requirements.txt (line 3)) (3.11.10)\n",
      "Requirement already satisfied: aioitertools==0.12.0 in /opt/conda/lib/python3.12/site-packages (from -r requirements.txt (line 4)) (0.12.0)\n",
      "Requirement already satisfied: aiosignal==1.3.1 in /opt/conda/lib/python3.12/site-packages (from -r requirements.txt (line 5)) (1.3.1)\n",
      "Requirement already satisfied: attrs==24.2.0 in /opt/conda/lib/python3.12/site-packages (from -r requirements.txt (line 6)) (24.2.0)\n",
      "Requirement already satisfied: botocore==1.35.36 in /opt/conda/lib/python3.12/site-packages (from -r requirements.txt (line 7)) (1.35.36)\n",
      "Requirement already satisfied: certifi==2024.8.30 in /opt/conda/lib/python3.12/site-packages (from -r requirements.txt (line 8)) (2024.8.30)\n",
      "Requirement already satisfied: charset-normalizer==3.4.0 in /opt/conda/lib/python3.12/site-packages (from -r requirements.txt (line 9)) (3.4.0)\n",
      "Requirement already satisfied: frozenlist==1.5.0 in /opt/conda/lib/python3.12/site-packages (from -r requirements.txt (line 10)) (1.5.0)\n",
      "Requirement already satisfied: fsspec==2024.10.0 in /opt/conda/lib/python3.12/site-packages (from -r requirements.txt (line 11)) (2024.10.0)\n",
      "Requirement already satisfied: idna==3.10 in /opt/conda/lib/python3.12/site-packages (from -r requirements.txt (line 12)) (3.10)\n",
      "Requirement already satisfied: jmespath==1.0.1 in /opt/conda/lib/python3.12/site-packages (from -r requirements.txt (line 13)) (1.0.1)\n",
      "Requirement already satisfied: multidict==6.1.0 in /opt/conda/lib/python3.12/site-packages (from -r requirements.txt (line 14)) (6.1.0)\n",
      "Requirement already satisfied: propcache==0.2.1 in /opt/conda/lib/python3.12/site-packages (from -r requirements.txt (line 15)) (0.2.1)\n",
      "Requirement already satisfied: python-dateutil==2.9.0.post0 in /opt/conda/lib/python3.12/site-packages (from -r requirements.txt (line 16)) (2.9.0.post0)\n",
      "Requirement already satisfied: python-dotenv==1.0.1 in /opt/conda/lib/python3.12/site-packages (from -r requirements.txt (line 17)) (1.0.1)\n",
      "Requirement already satisfied: requests==2.32.3 in /opt/conda/lib/python3.12/site-packages (from -r requirements.txt (line 18)) (2.32.3)\n",
      "Requirement already satisfied: s3fs==2024.10.0 in /opt/conda/lib/python3.12/site-packages (from -r requirements.txt (line 19)) (2024.10.0)\n",
      "Requirement already satisfied: six==1.17.0 in /opt/conda/lib/python3.12/site-packages (from -r requirements.txt (line 20)) (1.17.0)\n",
      "Requirement already satisfied: urllib3==2.2.3 in /opt/conda/lib/python3.12/site-packages (from -r requirements.txt (line 21)) (2.2.3)\n",
      "Requirement already satisfied: wrapt==1.17.0 in /opt/conda/lib/python3.12/site-packages (from -r requirements.txt (line 22)) (1.17.0)\n",
      "Requirement already satisfied: yarl==1.18.3 in /opt/conda/lib/python3.12/site-packages (from -r requirements.txt (line 23)) (1.18.3)\n"
     ]
    }
   ],
   "source": [
    "!pip install -r requirements.txt"
   ]
  },
  {
   "cell_type": "code",
   "execution_count": null,
   "metadata": {},
   "outputs": [
    {
     "data": {
      "text/plain": [
       "True"
      ]
     },
     "execution_count": 3,
     "metadata": {},
     "output_type": "execute_result"
    }
   ],
   "source": [
    "import os\n",
    "import json\n",
    "import pandas as pd\n",
    "import numpy as np\n",
    "from dotenv import load_dotenv\n",
    "\n",
    "load_dotenv()"
   ]
  },
  {
   "cell_type": "code",
   "execution_count": 6,
   "metadata": {},
   "outputs": [],
   "source": [
    "from utils.dataset import download_dataset\n",
    "\n",
    "download_dataset()"
   ]
  },
  {
   "cell_type": "markdown",
   "metadata": {},
   "source": [
    "## Statistiques descriptives"
   ]
  },
  {
   "cell_type": "markdown",
   "metadata": {},
   "source": [
    "Nous commençons par produire des statistiques descriptives pour orienter la suite de notre travail. A ce stade, nous cherchons à savoir s'il sera nécessaire d'aller plus loin sur le pré-traitement des données et à identifier des axes de travail intéressants en dehors de ceux que nous avons déjà identifiés."
   ]
  },
  {
   "cell_type": "code",
   "execution_count": 5,
   "metadata": {},
   "outputs": [],
   "source": [
    "df_disruptions = pd.read_csv(\"data/disruptions.csv\")\n",
    "df_lines = pd.read_csv(\"data/lines.csv\")"
   ]
  },
  {
   "cell_type": "markdown",
   "metadata": {},
   "source": [
    "### Perturbations"
   ]
  },
  {
   "cell_type": "code",
   "execution_count": 6,
   "metadata": {},
   "outputs": [
    {
     "data": {
      "text/html": [
       "<div>\n",
       "<style scoped>\n",
       "    .dataframe tbody tr th:only-of-type {\n",
       "        vertical-align: middle;\n",
       "    }\n",
       "\n",
       "    .dataframe tbody tr th {\n",
       "        vertical-align: top;\n",
       "    }\n",
       "\n",
       "    .dataframe thead th {\n",
       "        text-align: right;\n",
       "    }\n",
       "</style>\n",
       "<table border=\"1\" class=\"dataframe\">\n",
       "  <thead>\n",
       "    <tr style=\"text-align: right;\">\n",
       "      <th></th>\n",
       "      <th>version https://git-lfs.github.com/spec/v1</th>\n",
       "    </tr>\n",
       "  </thead>\n",
       "  <tbody>\n",
       "    <tr>\n",
       "      <th>0</th>\n",
       "      <td>oid sha256:334855f17f5e386b33d124c43cf24773e4f...</td>\n",
       "    </tr>\n",
       "    <tr>\n",
       "      <th>1</th>\n",
       "      <td>size 11216256</td>\n",
       "    </tr>\n",
       "  </tbody>\n",
       "</table>\n",
       "</div>"
      ],
      "text/plain": [
       "          version https://git-lfs.github.com/spec/v1\n",
       "0  oid sha256:334855f17f5e386b33d124c43cf24773e4f...\n",
       "1                                      size 11216256"
      ]
     },
     "execution_count": 6,
     "metadata": {},
     "output_type": "execute_result"
    }
   ],
   "source": [
    "df_disruptions.head()"
   ]
  }
 ],
 "metadata": {
  "kernelspec": {
   "display_name": "base",
   "language": "python",
   "name": "python3"
  },
  "language_info": {
   "codemirror_mode": {
    "name": "ipython",
    "version": 3
   },
   "file_extension": ".py",
   "mimetype": "text/x-python",
   "name": "python",
   "nbconvert_exporter": "python",
   "pygments_lexer": "ipython3",
   "version": "3.12.7"
  }
 },
 "nbformat": 4,
 "nbformat_minor": 2
}
