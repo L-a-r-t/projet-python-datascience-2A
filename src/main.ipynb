{
 "cells": [
  {
   "metadata": {},
   "cell_type": "markdown",
   "source": "_Note préliminaire_ : Il est possible d'utiliser cudf.pandas pour accélérer les opérations tabulaires de Pandas sur GPU. La cellule ci-dessous est facultative, mais (une fois le code décommenté) elle installe et charge cuDF pour **CUDA 12** (version de CUDA utilisée par les GPU du Datalab SSP Cloud). Pour les versions adaptées à CUDA 11, se référer à la [documentation RAPIDS](https://docs.rapids.ai/install/).",
   "id": "bab77dc20ecfb138"
  },
  {
   "cell_type": "code",
   "execution_count": null,
   "id": "initial_id",
   "metadata": {
    "collapsed": true
   },
   "outputs": [],
   "source": [
    "# !pip install --extra-index-url=https://pypi.nvidia.com cudf-cu12==24.12.* dask-cudf-cu12==24.12.* cuml-cu12==24.12.* cugraph-cu12==24.12.*\n",
    "\n",
    "# %load_ext cudf.pandas"
   ]
  },
  {
   "metadata": {},
   "cell_type": "markdown",
   "source": "La cellule ci-dessous installe les dépendances du projet.",
   "id": "907afd2ae5ee55e2"
  },
  {
   "metadata": {},
   "cell_type": "code",
   "outputs": [],
   "execution_count": null,
   "source": "!pip install -q -r ../requirements.txt",
   "id": "3986afce16f7b60c"
  },
  {
   "metadata": {},
   "cell_type": "markdown",
   "source": [
    "# Prédire la durée des incidents sur le réseau francilien à partir des alertes de trafic ?\n",
    "\n",
    "Notebook principal"
   ],
   "id": "d07386460419d76e"
  },
  {
   "metadata": {},
   "cell_type": "code",
   "outputs": [],
   "execution_count": null,
   "source": "",
   "id": "d297a77366e1b17e"
  }
 ],
 "metadata": {
  "kernelspec": {
   "display_name": "Python 3",
   "language": "python",
   "name": "python3"
  },
  "language_info": {
   "codemirror_mode": {
    "name": "ipython",
    "version": 2
   },
   "file_extension": ".py",
   "mimetype": "text/x-python",
   "name": "python",
   "nbconvert_exporter": "python",
   "pygments_lexer": "ipython2",
   "version": "2.7.6"
  }
 },
 "nbformat": 4,
 "nbformat_minor": 5
}
