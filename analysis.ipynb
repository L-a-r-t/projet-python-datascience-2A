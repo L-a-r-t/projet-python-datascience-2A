{
 "cells": [
  {
   "cell_type": "markdown",
   "metadata": {},
   "source": [
    "# Analyse des données\n",
    "\n",
    "Ce notebook est dédié à l'analyse du dataset généré depuis `data-processing.ipynb`. Nos objectifs sont :\n",
    "1. L'identification des lignes et des tronçons les plus problématiques sur le réseau IDF Mobilités\n",
    "2. L'identification des perturbations les plus fréquentes\n",
    "3. La mise en contexte socio-géographique de ces observations\n",
    "4. L'identification de potentiels problèmes dans la restitution des données par l'API IDF Mobilités"
   ]
  },
  {
   "cell_type": "markdown",
   "metadata": {},
   "source": [
    "## Imports"
   ]
  },
  {
   "cell_type": "code",
   "execution_count": null,
   "metadata": {},
   "outputs": [],
   "source": [
    "# On utilise cudf.pandas pour accélérer les opérations Pandas sur GPU, optionnel\n",
    "\n",
    "!pip install \\\n",
    "  --extra-index-url=https://pypi.nvidia.com \\\n",
    "  cudf-cu12==24.12.* \\\n",
    "  dask-cudf-cu12==24.12.* \\\n",
    "  cuml-cu12==24.12.* \\\n",
    "  cugraph-cu12==24.12.*\n",
    "\n",
    "%load_ext cudf.pandas"
   ]
  },
  {
   "cell_type": "code",
   "execution_count": null,
   "metadata": {},
   "outputs": [],
   "source": [
    "!pip install -r requirements.txt"
   ]
  },
  {
   "cell_type": "code",
   "execution_count": null,
   "metadata": {},
   "outputs": [],
   "source": [
    "import os\n",
    "import json\n",
    "import pandas as pd\n",
    "import numpy as np\n",
    "from dotenv import load_dotenv\n",
    "\n",
    "load_dotenv()"
   ]
  },
  {
   "cell_type": "markdown",
   "metadata": {},
   "source": [
    "## Statistiques descriptives"
   ]
  },
  {
   "cell_type": "markdown",
   "metadata": {},
   "source": [
    "Nous avons déjà mesuré lors de la génération du dataset que celui ci contient 1092"
   ]
  },
  {
   "cell_type": "code",
   "execution_count": null,
   "metadata": {},
   "outputs": [],
   "source": []
  }
 ],
 "metadata": {
  "kernelspec": {
   "display_name": "base",
   "language": "python",
   "name": "python3"
  },
  "language_info": {
   "name": "python",
   "version": "3.12.7"
  }
 },
 "nbformat": 4,
 "nbformat_minor": 2
}
