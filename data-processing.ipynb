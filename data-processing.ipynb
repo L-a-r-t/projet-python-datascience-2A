{
 "cells": [
  {
   "cell_type": "markdown",
   "metadata": {},
   "source": [
    "# Génération du dataset pour l'analyse de données\n",
    "\n",
    "Les données issues du scraping de l'API IDF Mobilités ne constituent pas un jeu de données en tant que tel. Le rôle de ce notebook est de passer du des données brutes à un jeu de données exploitable par la suite."
   ]
  },
  {
   "cell_type": "code",
   "execution_count": 1,
   "metadata": {},
   "outputs": [
    {
     "name": "stdout",
     "output_type": "stream",
     "text": [
      "Looking in indexes: https://pypi.org/simple, https://pypi.nvidia.com\n",
      "Requirement already satisfied: cudf-cu12==24.12.* in /opt/conda/lib/python3.12/site-packages (24.12.0)\n",
      "Requirement already satisfied: dask-cudf-cu12==24.12.* in /opt/conda/lib/python3.12/site-packages (24.12.0)\n",
      "Requirement already satisfied: cuml-cu12==24.12.* in /opt/conda/lib/python3.12/site-packages (24.12.0)\n",
      "Requirement already satisfied: cugraph-cu12==24.12.* in /opt/conda/lib/python3.12/site-packages (24.12.0)\n",
      "Requirement already satisfied: cachetools in /opt/conda/lib/python3.12/site-packages (from cudf-cu12==24.12.*) (5.5.0)\n",
      "Requirement already satisfied: cuda-python<13.0a0,<=12.6.0,>=12.0 in /opt/conda/lib/python3.12/site-packages (from cudf-cu12==24.12.*) (12.6.0)\n",
      "Requirement already satisfied: cupy-cuda12x>=12.0.0 in /opt/conda/lib/python3.12/site-packages (from cudf-cu12==24.12.*) (13.3.0)\n",
      "Requirement already satisfied: fsspec>=0.6.0 in /opt/conda/lib/python3.12/site-packages (from cudf-cu12==24.12.*) (2024.10.0)\n",
      "Requirement already satisfied: libcudf-cu12==24.12.* in /opt/conda/lib/python3.12/site-packages (from cudf-cu12==24.12.*) (24.12.0)\n",
      "Requirement already satisfied: numba-cuda<0.0.18,>=0.0.13 in /opt/conda/lib/python3.12/site-packages (from cudf-cu12==24.12.*) (0.0.17.1)\n",
      "Requirement already satisfied: numpy<3.0a0,>=1.23 in /opt/conda/lib/python3.12/site-packages (from cudf-cu12==24.12.*) (2.0.2)\n",
      "Requirement already satisfied: nvtx>=0.2.1 in /opt/conda/lib/python3.12/site-packages (from cudf-cu12==24.12.*) (0.2.10)\n",
      "Requirement already satisfied: packaging in /opt/conda/lib/python3.12/site-packages (from cudf-cu12==24.12.*) (24.2)\n",
      "Requirement already satisfied: pandas<2.2.4dev0,>=2.0 in /opt/conda/lib/python3.12/site-packages (from cudf-cu12==24.12.*) (2.2.3)\n",
      "Requirement already satisfied: pyarrow<19.0.0a0,>=14.0.0 in /opt/conda/lib/python3.12/site-packages (from cudf-cu12==24.12.*) (18.1.0)\n",
      "Requirement already satisfied: pylibcudf-cu12==24.12.* in /opt/conda/lib/python3.12/site-packages (from cudf-cu12==24.12.*) (24.12.0)\n",
      "Requirement already satisfied: pynvjitlink-cu12 in /opt/conda/lib/python3.12/site-packages (from cudf-cu12==24.12.*) (0.4.0)\n",
      "Requirement already satisfied: rich in /opt/conda/lib/python3.12/site-packages (from cudf-cu12==24.12.*) (13.9.4)\n",
      "Requirement already satisfied: rmm-cu12==24.12.* in /opt/conda/lib/python3.12/site-packages (from cudf-cu12==24.12.*) (24.12.1)\n",
      "Requirement already satisfied: typing_extensions>=4.0.0 in /opt/conda/lib/python3.12/site-packages (from cudf-cu12==24.12.*) (4.12.2)\n",
      "Requirement already satisfied: pynvml<12.0.0a0,>=11.4.1 in /opt/conda/lib/python3.12/site-packages (from dask-cudf-cu12==24.12.*) (11.4.1)\n",
      "Requirement already satisfied: rapids-dask-dependency==24.12.* in /opt/conda/lib/python3.12/site-packages (from dask-cudf-cu12==24.12.*) (24.12.0)\n",
      "Requirement already satisfied: cuvs-cu12==24.12.* in /opt/conda/lib/python3.12/site-packages (from cuml-cu12==24.12.*) (24.12.0)\n",
      "Requirement already satisfied: dask-cuda==24.12.* in /opt/conda/lib/python3.12/site-packages (from cuml-cu12==24.12.*) (24.12.0)\n",
      "Requirement already satisfied: joblib>=0.11 in /opt/conda/lib/python3.12/site-packages (from cuml-cu12==24.12.*) (1.4.2)\n",
      "Requirement already satisfied: numba>=0.57 in /opt/conda/lib/python3.12/site-packages (from cuml-cu12==24.12.*) (0.60.0)\n",
      "Requirement already satisfied: nvidia-cublas-cu12 in /opt/conda/lib/python3.12/site-packages (from cuml-cu12==24.12.*) (12.6.4.1)\n",
      "Requirement already satisfied: nvidia-cufft-cu12 in /opt/conda/lib/python3.12/site-packages (from cuml-cu12==24.12.*) (11.3.0.4)\n",
      "Requirement already satisfied: nvidia-curand-cu12 in /opt/conda/lib/python3.12/site-packages (from cuml-cu12==24.12.*) (10.3.7.77)\n",
      "Requirement already satisfied: nvidia-cusolver-cu12 in /opt/conda/lib/python3.12/site-packages (from cuml-cu12==24.12.*) (11.7.1.2)\n",
      "Requirement already satisfied: nvidia-cusparse-cu12 in /opt/conda/lib/python3.12/site-packages (from cuml-cu12==24.12.*) (12.5.4.2)\n",
      "Requirement already satisfied: pylibraft-cu12==24.12.* in /opt/conda/lib/python3.12/site-packages (from cuml-cu12==24.12.*) (24.12.0)\n",
      "Requirement already satisfied: raft-dask-cu12==24.12.* in /opt/conda/lib/python3.12/site-packages (from cuml-cu12==24.12.*) (24.12.0)\n",
      "Requirement already satisfied: scipy>=1.8.0 in /opt/conda/lib/python3.12/site-packages (from cuml-cu12==24.12.*) (1.14.1)\n",
      "Requirement already satisfied: treelite==4.3.0 in /opt/conda/lib/python3.12/site-packages (from cuml-cu12==24.12.*) (4.3.0)\n",
      "Requirement already satisfied: pylibcugraph-cu12==24.12.* in /opt/conda/lib/python3.12/site-packages (from cugraph-cu12==24.12.*) (24.12.0)\n",
      "Requirement already satisfied: ucx-py-cu12==0.41.* in /opt/conda/lib/python3.12/site-packages (from cugraph-cu12==24.12.*) (0.41.0)\n",
      "Requirement already satisfied: click>=8.1 in /opt/conda/lib/python3.12/site-packages (from dask-cuda==24.12.*->cuml-cu12==24.12.*) (8.1.8)\n",
      "Requirement already satisfied: zict>=2.0.0 in /opt/conda/lib/python3.12/site-packages (from dask-cuda==24.12.*->cuml-cu12==24.12.*) (3.0.0)\n",
      "Requirement already satisfied: libkvikio-cu12==24.12.* in /opt/conda/lib/python3.12/site-packages (from libcudf-cu12==24.12.*->cudf-cu12==24.12.*) (24.12.1)\n",
      "Requirement already satisfied: nvidia-nvcomp-cu12==4.1.0.6 in /opt/conda/lib/python3.12/site-packages (from libcudf-cu12==24.12.*->cudf-cu12==24.12.*) (4.1.0.6)\n",
      "Requirement already satisfied: distributed-ucxx-cu12==0.41.* in /opt/conda/lib/python3.12/site-packages (from raft-dask-cu12==24.12.*->cuml-cu12==24.12.*) (0.41.0)\n",
      "Requirement already satisfied: dask==2024.11.2 in /opt/conda/lib/python3.12/site-packages (from rapids-dask-dependency==24.12.*->dask-cudf-cu12==24.12.*) (2024.11.2)\n",
      "Requirement already satisfied: distributed==2024.11.2 in /opt/conda/lib/python3.12/site-packages (from rapids-dask-dependency==24.12.*->dask-cudf-cu12==24.12.*) (2024.11.2)\n",
      "Requirement already satisfied: dask-expr==1.1.19 in /opt/conda/lib/python3.12/site-packages (from rapids-dask-dependency==24.12.*->dask-cudf-cu12==24.12.*) (1.1.19)\n",
      "Requirement already satisfied: libucx-cu12<1.18,>=1.15.0 in /opt/conda/lib/python3.12/site-packages (from ucx-py-cu12==0.41.*->cugraph-cu12==24.12.*) (1.17.0.post1)\n",
      "Requirement already satisfied: cloudpickle>=3.0.0 in /opt/conda/lib/python3.12/site-packages (from dask==2024.11.2->rapids-dask-dependency==24.12.*->dask-cudf-cu12==24.12.*) (3.1.0)\n",
      "Requirement already satisfied: partd>=1.4.0 in /opt/conda/lib/python3.12/site-packages (from dask==2024.11.2->rapids-dask-dependency==24.12.*->dask-cudf-cu12==24.12.*) (1.4.2)\n",
      "Requirement already satisfied: pyyaml>=5.3.1 in /opt/conda/lib/python3.12/site-packages (from dask==2024.11.2->rapids-dask-dependency==24.12.*->dask-cudf-cu12==24.12.*) (6.0.2)\n",
      "Requirement already satisfied: toolz>=0.10.0 in /opt/conda/lib/python3.12/site-packages (from dask==2024.11.2->rapids-dask-dependency==24.12.*->dask-cudf-cu12==24.12.*) (1.0.0)\n",
      "Requirement already satisfied: jinja2>=2.10.3 in /opt/conda/lib/python3.12/site-packages (from distributed==2024.11.2->rapids-dask-dependency==24.12.*->dask-cudf-cu12==24.12.*) (3.1.5)\n",
      "Requirement already satisfied: locket>=1.0.0 in /opt/conda/lib/python3.12/site-packages (from distributed==2024.11.2->rapids-dask-dependency==24.12.*->dask-cudf-cu12==24.12.*) (1.0.0)\n",
      "Requirement already satisfied: msgpack>=1.0.2 in /opt/conda/lib/python3.12/site-packages (from distributed==2024.11.2->rapids-dask-dependency==24.12.*->dask-cudf-cu12==24.12.*) (1.1.0)\n",
      "Requirement already satisfied: psutil>=5.8.0 in /opt/conda/lib/python3.12/site-packages (from distributed==2024.11.2->rapids-dask-dependency==24.12.*->dask-cudf-cu12==24.12.*) (6.1.0)\n",
      "Requirement already satisfied: sortedcontainers>=2.0.5 in /opt/conda/lib/python3.12/site-packages (from distributed==2024.11.2->rapids-dask-dependency==24.12.*->dask-cudf-cu12==24.12.*) (2.4.0)\n",
      "Requirement already satisfied: tblib>=1.6.0 in /opt/conda/lib/python3.12/site-packages (from distributed==2024.11.2->rapids-dask-dependency==24.12.*->dask-cudf-cu12==24.12.*) (3.0.0)\n",
      "Requirement already satisfied: tornado>=6.2.0 in /opt/conda/lib/python3.12/site-packages (from distributed==2024.11.2->rapids-dask-dependency==24.12.*->dask-cudf-cu12==24.12.*) (6.4.2)\n",
      "Requirement already satisfied: urllib3>=1.26.5 in /opt/conda/lib/python3.12/site-packages (from distributed==2024.11.2->rapids-dask-dependency==24.12.*->dask-cudf-cu12==24.12.*) (2.2.3)\n",
      "Requirement already satisfied: ucxx-cu12==0.41.* in /opt/conda/lib/python3.12/site-packages (from distributed-ucxx-cu12==0.41.*->raft-dask-cu12==24.12.*->cuml-cu12==24.12.*) (0.41.0)\n",
      "Requirement already satisfied: libucxx-cu12==0.41.* in /opt/conda/lib/python3.12/site-packages (from ucxx-cu12==0.41.*->distributed-ucxx-cu12==0.41.*->raft-dask-cu12==24.12.*->cuml-cu12==24.12.*) (0.41.0)\n",
      "Requirement already satisfied: fastrlock>=0.5 in /opt/conda/lib/python3.12/site-packages (from cupy-cuda12x>=12.0.0->cudf-cu12==24.12.*) (0.8.3)\n",
      "Requirement already satisfied: aiohttp!=4.0.0a0,!=4.0.0a1 in /opt/conda/lib/python3.12/site-packages (from fsspec[http]>=0.6.0->cugraph-cu12==24.12.*) (3.11.10)\n",
      "Requirement already satisfied: llvmlite<0.44,>=0.43.0dev0 in /opt/conda/lib/python3.12/site-packages (from numba>=0.57->cuml-cu12==24.12.*) (0.43.0)\n",
      "Requirement already satisfied: python-dateutil>=2.8.2 in /opt/conda/lib/python3.12/site-packages (from pandas<2.2.4dev0,>=2.0->cudf-cu12==24.12.*) (2.9.0.post0)\n",
      "Requirement already satisfied: pytz>=2020.1 in /opt/conda/lib/python3.12/site-packages (from pandas<2.2.4dev0,>=2.0->cudf-cu12==24.12.*) (2024.1)\n",
      "Requirement already satisfied: tzdata>=2022.7 in /opt/conda/lib/python3.12/site-packages (from pandas<2.2.4dev0,>=2.0->cudf-cu12==24.12.*) (2024.2)\n",
      "Requirement already satisfied: nvidia-nvjitlink-cu12 in /opt/conda/lib/python3.12/site-packages (from nvidia-cufft-cu12->cuml-cu12==24.12.*) (12.6.85)\n",
      "Requirement already satisfied: markdown-it-py>=2.2.0 in /opt/conda/lib/python3.12/site-packages (from rich->cudf-cu12==24.12.*) (3.0.0)\n",
      "Requirement already satisfied: pygments<3.0.0,>=2.13.0 in /opt/conda/lib/python3.12/site-packages (from rich->cudf-cu12==24.12.*) (2.18.0)\n",
      "Requirement already satisfied: aiohappyeyeballs>=2.3.0 in /opt/conda/lib/python3.12/site-packages (from aiohttp!=4.0.0a0,!=4.0.0a1->fsspec[http]>=0.6.0->cugraph-cu12==24.12.*) (2.4.4)\n",
      "Requirement already satisfied: aiosignal>=1.1.2 in /opt/conda/lib/python3.12/site-packages (from aiohttp!=4.0.0a0,!=4.0.0a1->fsspec[http]>=0.6.0->cugraph-cu12==24.12.*) (1.3.1)\n",
      "Requirement already satisfied: attrs>=17.3.0 in /opt/conda/lib/python3.12/site-packages (from aiohttp!=4.0.0a0,!=4.0.0a1->fsspec[http]>=0.6.0->cugraph-cu12==24.12.*) (24.2.0)\n",
      "Requirement already satisfied: frozenlist>=1.1.1 in /opt/conda/lib/python3.12/site-packages (from aiohttp!=4.0.0a0,!=4.0.0a1->fsspec[http]>=0.6.0->cugraph-cu12==24.12.*) (1.5.0)\n",
      "Requirement already satisfied: multidict<7.0,>=4.5 in /opt/conda/lib/python3.12/site-packages (from aiohttp!=4.0.0a0,!=4.0.0a1->fsspec[http]>=0.6.0->cugraph-cu12==24.12.*) (6.1.0)\n",
      "Requirement already satisfied: propcache>=0.2.0 in /opt/conda/lib/python3.12/site-packages (from aiohttp!=4.0.0a0,!=4.0.0a1->fsspec[http]>=0.6.0->cugraph-cu12==24.12.*) (0.2.1)\n",
      "Requirement already satisfied: yarl<2.0,>=1.17.0 in /opt/conda/lib/python3.12/site-packages (from aiohttp!=4.0.0a0,!=4.0.0a1->fsspec[http]>=0.6.0->cugraph-cu12==24.12.*) (1.18.3)\n",
      "Requirement already satisfied: mdurl~=0.1 in /opt/conda/lib/python3.12/site-packages (from markdown-it-py>=2.2.0->rich->cudf-cu12==24.12.*) (0.1.2)\n",
      "Requirement already satisfied: six>=1.5 in /opt/conda/lib/python3.12/site-packages (from python-dateutil>=2.8.2->pandas<2.2.4dev0,>=2.0->cudf-cu12==24.12.*) (1.17.0)\n",
      "Requirement already satisfied: MarkupSafe>=2.0 in /opt/conda/lib/python3.12/site-packages (from jinja2>=2.10.3->distributed==2024.11.2->rapids-dask-dependency==24.12.*->dask-cudf-cu12==24.12.*) (3.0.2)\n",
      "Requirement already satisfied: idna>=2.0 in /opt/conda/lib/python3.12/site-packages (from yarl<2.0,>=1.17.0->aiohttp!=4.0.0a0,!=4.0.0a1->fsspec[http]>=0.6.0->cugraph-cu12==24.12.*) (3.10)\n"
     ]
    }
   ],
   "source": [
    "# On utilise cudf.pandas pour accélérer les opérations Pandas sur GPU, optionnel\n",
    "\n",
    "!pip install \\\n",
    "  --extra-index-url=https://pypi.nvidia.com \\\n",
    "  cudf-cu12==24.12.* \\\n",
    "  dask-cudf-cu12==24.12.* \\\n",
    "  cuml-cu12==24.12.* \\\n",
    "  cugraph-cu12==24.12.*\n",
    "\n",
    "%load_ext cudf.pandas"
   ]
  },
  {
   "cell_type": "code",
   "execution_count": 2,
   "metadata": {},
   "outputs": [
    {
     "name": "stdout",
     "output_type": "stream",
     "text": [
      "Requirement already satisfied: aiobotocore==2.15.2 in /opt/conda/lib/python3.12/site-packages (from -r requirements.txt (line 1)) (2.15.2)\n",
      "Requirement already satisfied: aiohappyeyeballs==2.4.4 in /opt/conda/lib/python3.12/site-packages (from -r requirements.txt (line 2)) (2.4.4)\n",
      "Requirement already satisfied: aiohttp==3.11.10 in /opt/conda/lib/python3.12/site-packages (from -r requirements.txt (line 3)) (3.11.10)\n",
      "Requirement already satisfied: aioitertools==0.12.0 in /opt/conda/lib/python3.12/site-packages (from -r requirements.txt (line 4)) (0.12.0)\n",
      "Requirement already satisfied: aiosignal==1.3.1 in /opt/conda/lib/python3.12/site-packages (from -r requirements.txt (line 5)) (1.3.1)\n",
      "Requirement already satisfied: attrs==24.2.0 in /opt/conda/lib/python3.12/site-packages (from -r requirements.txt (line 6)) (24.2.0)\n",
      "Requirement already satisfied: botocore==1.35.36 in /opt/conda/lib/python3.12/site-packages (from -r requirements.txt (line 7)) (1.35.36)\n",
      "Requirement already satisfied: certifi==2024.8.30 in /opt/conda/lib/python3.12/site-packages (from -r requirements.txt (line 8)) (2024.8.30)\n",
      "Requirement already satisfied: charset-normalizer==3.4.0 in /opt/conda/lib/python3.12/site-packages (from -r requirements.txt (line 9)) (3.4.0)\n",
      "Requirement already satisfied: frozenlist==1.5.0 in /opt/conda/lib/python3.12/site-packages (from -r requirements.txt (line 10)) (1.5.0)\n",
      "Requirement already satisfied: fsspec==2024.10.0 in /opt/conda/lib/python3.12/site-packages (from -r requirements.txt (line 11)) (2024.10.0)\n",
      "Requirement already satisfied: idna==3.10 in /opt/conda/lib/python3.12/site-packages (from -r requirements.txt (line 12)) (3.10)\n",
      "Requirement already satisfied: jmespath==1.0.1 in /opt/conda/lib/python3.12/site-packages (from -r requirements.txt (line 13)) (1.0.1)\n",
      "Requirement already satisfied: multidict==6.1.0 in /opt/conda/lib/python3.12/site-packages (from -r requirements.txt (line 14)) (6.1.0)\n",
      "Requirement already satisfied: propcache==0.2.1 in /opt/conda/lib/python3.12/site-packages (from -r requirements.txt (line 15)) (0.2.1)\n",
      "Requirement already satisfied: python-dateutil==2.9.0.post0 in /opt/conda/lib/python3.12/site-packages (from -r requirements.txt (line 16)) (2.9.0.post0)\n",
      "Requirement already satisfied: python-dotenv==1.0.1 in /opt/conda/lib/python3.12/site-packages (from -r requirements.txt (line 17)) (1.0.1)\n",
      "Requirement already satisfied: requests==2.32.3 in /opt/conda/lib/python3.12/site-packages (from -r requirements.txt (line 18)) (2.32.3)\n",
      "Requirement already satisfied: s3fs==2024.10.0 in /opt/conda/lib/python3.12/site-packages (from -r requirements.txt (line 19)) (2024.10.0)\n",
      "Requirement already satisfied: six==1.17.0 in /opt/conda/lib/python3.12/site-packages (from -r requirements.txt (line 20)) (1.17.0)\n",
      "Requirement already satisfied: urllib3==2.2.3 in /opt/conda/lib/python3.12/site-packages (from -r requirements.txt (line 21)) (2.2.3)\n",
      "Requirement already satisfied: wrapt==1.17.0 in /opt/conda/lib/python3.12/site-packages (from -r requirements.txt (line 22)) (1.17.0)\n",
      "Requirement already satisfied: yarl==1.18.3 in /opt/conda/lib/python3.12/site-packages (from -r requirements.txt (line 23)) (1.18.3)\n"
     ]
    }
   ],
   "source": [
    "!pip install -r requirements.txt"
   ]
  },
  {
   "cell_type": "code",
   "execution_count": 3,
   "metadata": {},
   "outputs": [
    {
     "data": {
      "text/plain": [
       "False"
      ]
     },
     "execution_count": 3,
     "metadata": {},
     "output_type": "execute_result"
    }
   ],
   "source": [
    "import os\n",
    "import json\n",
    "import pandas as pd\n",
    "import numpy as np\n",
    "from dotenv import load_dotenv\n",
    "\n",
    "load_dotenv()"
   ]
  },
  {
   "cell_type": "markdown",
   "metadata": {},
   "source": [
    "Pour avoir plus de flexibilité pour mener notre analyse, nous ne travaillerons pas seulement avec un dataset combinant les données sur les perturbations et les lignes affectées, nous garderons aussi de côté les données propres aux perturbations et aux lignes séparées."
   ]
  },
  {
   "cell_type": "code",
   "execution_count": 4,
   "metadata": {},
   "outputs": [],
   "source": [
    "from scraping.config import ROOT\n",
    "import s3fs\n",
    "\n",
    "# Le code en commentaire sert à accéder au bucket SSP Cloud qui contient les donénes de scraping en n'étant pas Théo Lartigau\n",
    "# Il nécessite que les variables d'environnement MINIO_KEY et MINIO_SECRET soient enregistrées\n",
    "\n",
    "# KEY = os.environ.get(\"MINIO_KEY\")\n",
    "# SECRET = os.environ.get(\"MINIO_SECRET\")\n",
    "\n",
    "# fs = s3fs.S3FileSystem(client_kwargs={\"endpoint_url\": \"https://minio.lab.sspcloud.fr\"}, key=KEY, secret=SECRET)\n",
    "\n",
    "fs = s3fs.S3FileSystem(client_kwargs={\"endpoint_url\": \"https://minio.lab.sspcloud.fr\"})\n",
    "\n",
    "paths = fs.ls(ROOT)\n",
    "\n",
    "paths = [p for p in paths if not p.split(\"/\").pop().startswith(\".\")] # on exclue les fichiers cachés\n",
    "\n",
    "all_results = []\n",
    "all_disruptions = []\n",
    "all_lines = []\n",
    "\n",
    "for file_path in paths:\n",
    "    with fs.open(file_path, 'r', encoding='ascii') as f:\n",
    "        raw_data = f.read()\n",
    "        data = json.loads(raw_data)\n",
    "        \n",
    "        last_updated = data.get('lastUpdatedDate')\n",
    "        disruptions = data.get('disruptions', [])\n",
    "        lines = data.get('lines', [])\n",
    "        \n",
    "        all_results.append({\n",
    "            'lastUpdatedDate': last_updated,\n",
    "            'disruptions': disruptions,\n",
    "            'lines': lines\n",
    "        })\n",
    "        \n",
    "        for d in disruptions:\n",
    "            all_disruptions.append({\n",
    "                'disruption_id': d.get('id'),\n",
    "                'applicationPeriods': d.get('applicationPeriods'),\n",
    "                'lastUpdate': d.get('lastUpdate'),\n",
    "                'cause': d.get('cause'),\n",
    "                'severity': d.get('severity'),\n",
    "                'title': d.get('title'),\n",
    "                'message': d.get('message'),\n",
    "                'file_lastUpdatedDate': last_updated\n",
    "            })\n",
    "        \n",
    "        for l in lines:\n",
    "            all_lines.append({\n",
    "                'line_id': l.get('id'),\n",
    "                'name': l.get('name'),\n",
    "                'shortName': l.get('shortName'),\n",
    "                'mode': l.get('mode'),\n",
    "                'networkId': l.get('networkId'),\n",
    "                'impactedObjects': l.get('impactedObjects', []),\n",
    "                'file_lastUpdatedDate': last_updated\n",
    "            })"
   ]
  },
  {
   "cell_type": "markdown",
   "metadata": {},
   "source": [
    "Du fait de perturbations pouvant être de longue durée (travaux...), nos données brutes comportent de nombreux duplicats que nous allons devoir traiter."
   ]
  },
  {
   "cell_type": "code",
   "execution_count": 5,
   "metadata": {},
   "outputs": [
    {
     "name": "stdout",
     "output_type": "stream",
     "text": [
      "column_view::get_data: Unsupported type: 24\n",
      "column_view::get_data: Unsupported type: 24\n",
      "column_view::get_data: Unsupported type: 24\n",
      "column_view::get_data: Unsupported type: 24\n",
      "column_view::get_data: Unsupported type: 24\n",
      "column_view::get_data: Unsupported type: 24\n",
      "column_view::get_data: Unsupported type: 24\n",
      "column_view::get_data: Unsupported type: 24\n",
      "column_view::get_data: Unsupported type: 24\n",
      "column_view::get_data: Unsupported type: 24\n",
      "column_view::get_data: Unsupported type: 24\n",
      "column_view::get_data: Unsupported type: 24\n",
      "column_view::get_data: Unsupported type: 24\n",
      "column_view::get_data: Unsupported type: 24\n",
      "column_view::get_data: Unsupported type: 24\n",
      "column_view::get_data: Unsupported type: 24\n",
      "column_view::get_data: Unsupported type: 24\n",
      "column_view::get_data: Unsupported type: 24\n",
      "column_view::get_data: Unsupported type: 24\n",
      "column_view::get_data: Unsupported type: 24\n",
      "column_view::get_data: Unsupported type: 24\n",
      "column_view::get_data: Unsupported type: 24\n",
      "column_view::get_data: Unsupported type: 24\n",
      "column_view::get_data: Unsupported type: 24\n",
      "column_view::get_data: Unsupported type: 24\n",
      "column_view::get_data: Unsupported type: 24\n",
      "column_view::get_data: Unsupported type: 24\n",
      "Total results (before): 2346\n",
      "Total disruptions (before): 1717023\n",
      "Total lines (before): 1511365\n",
      "column_view::get_data: Unsupported type: 28\n",
      "column_view::get_data: Unsupported type: 24\n",
      "column_view::get_data: Unsupported type: 28\n",
      "column_view::get_data: Unsupported type: 24\n",
      "column_view::get_data: Unsupported type: 24\n",
      "column_view::get_data: Unsupported type: 24\n",
      "column_view::get_data: Unsupported type: 28\n",
      "column_view::get_data: Unsupported type: 24\n",
      "column_view::get_data: Unsupported type: 28\n",
      "column_view::get_data: Unsupported type: 24\n",
      "column_view::get_data: Unsupported type: 24\n",
      "column_view::get_data: Unsupported type: 24\n",
      "column_view::get_data: Unsupported type: 24\n",
      "column_view::get_data: Unsupported type: 24\n",
      "column_view::get_data: Unsupported type: 24\n",
      "Total results (after): 2346\n",
      "Total disruptions (after): 19787\n",
      "Total lines (after): 1093\n"
     ]
    }
   ],
   "source": [
    "df_results = pd.DataFrame(all_results)\n",
    "df_disruptions = pd.DataFrame(all_disruptions)\n",
    "df_lines = pd.DataFrame(all_lines)\n",
    "\n",
    "results_before = len(df_results)\n",
    "disruptions_before = len(df_disruptions)\n",
    "lines_before = len(df_lines)\n",
    "\n",
    "print(\"Total results (before):\", results_before)\n",
    "print(\"Total disruptions (before):\", disruptions_before)\n",
    "print(\"Total lines (before):\", lines_before)\n",
    "\n",
    "df_lines.to_csv(\"data/lines.csv\") # Nous aurons besoin de toutes les données sur les lignes pour faire une jointure avec les pertubations\n",
    "\n",
    "df_results = df_results.drop_duplicates(subset=['lastUpdatedDate'])\n",
    "df_disruptions = df_disruptions.drop_duplicates(subset=['disruption_id'])\n",
    "df_lines_deduplicated = df_lines.drop_duplicates(subset=['line_id'])\n",
    "\n",
    "results_after = len(df_results)\n",
    "disruptions_after = len(df_disruptions)\n",
    "lines_after = len(df_lines_deduplicated)\n",
    "\n",
    "print(\"Total results (after):\", results_after)\n",
    "print(\"Total disruptions (after):\", disruptions_after)\n",
    "print(\"Total lines (after):\", lines_after)\n",
    "\n",
    "df_results.to_csv(\"data/results.csv\")\n",
    "df_disruptions.to_csv(\"data/disruptions.csv\")\n",
    "df_lines_deduplicated.to_csv(\"data/lines_unique.csv\")"
   ]
  },
  {
   "cell_type": "code",
   "execution_count": 6,
   "metadata": {},
   "outputs": [
    {
     "name": "stdout",
     "output_type": "stream",
     "text": [
      "Total results (%reduction): 0.0\n",
      "Total disruptions (%reduction): 98.85000000000001\n",
      "Total lines (%reduction): 99.92999999999999\n"
     ]
    }
   ],
   "source": [
    "print(\"Total results (%reduction):\", (1 - round(results_after/results_before, 4)) * 100)\n",
    "print(\"Total disruptions (%reduction):\", (1 - round(disruptions_after/disruptions_before, 4)) * 100)\n",
    "print(\"Total lines (%reduction):\", (1 - round(lines_after/lines_before, 4)) * 100)"
   ]
  },
  {
   "cell_type": "markdown",
   "metadata": {},
   "source": [
    "On comprend ici que l'API IDF Mobilités est mise à jour plus régulièrement que notre fréquence de scraping (aucun doublon dans les résultats des appels API). Cela veut dire qu'il n'est pas impossible que nous ayons manqué des perturbations de très courte durée sur la période considérée. Nous garderons cela en tête pour l'analyse des données.\n",
    "\n",
    "La déduplication a toutefois été très importante pour les données sur les perturbations et sur les lignes, ce qui était attendu. Avec 19757 perturbations différentes dans notre jeu de données établi sur 3 semaines. Nous avons assez de données pour faire une analyse intéressante, bien que l'idéal serait de produire un outil permettant une analyse continue et automatisée des perturbations fournies par l'API."
   ]
  },
  {
   "cell_type": "code",
   "execution_count": 9,
   "metadata": {},
   "outputs": [],
   "source": [
    "# jointure entre lignes et perturbations\n",
    "def merge_lines_disruptions(df_lines, df_disruptions):\n",
    "    line_disruption_links = []\n",
    "\n",
    "    for idx, row in df_lines.iterrows():\n",
    "        impacted_objects = row['impactedObjects']\n",
    "        line_id = row['line_id']\n",
    "        if impacted_objects:\n",
    "            for obj in impacted_objects:\n",
    "                disruptions_ids = obj.get('disruptionIds', [])\n",
    "                for d_id in disruptions_ids:\n",
    "                    line_disruption_links.append({\n",
    "                        'line_id': line_id,\n",
    "                        'disruption_id': d_id\n",
    "                    })\n",
    "\n",
    "    df_line_disruption = pd.DataFrame(line_disruption_links)\n",
    "\n",
    "    df_line_disruption = df_line_disruption.merge(df_lines, on='line_id') \\\n",
    "                                        .merge(df_disruptions, left_on='disruption_id', right_on='disruption_id')\n",
    "\n",
    "    return df_line_disruption"
   ]
  },
  {
   "cell_type": "code",
   "execution_count": 10,
   "metadata": {},
   "outputs": [
    {
     "name": "stdout",
     "output_type": "stream",
     "text": [
      "column_view::get_data: Unsupported type: 24\n",
      "column_view::get_data: Unsupported type: 24\n",
      "column_view::get_data: Unsupported type: 24\n",
      "column_view::get_data: Unsupported type: 24\n",
      "column_view::get_data: Unsupported type: 24\n",
      "column_view::get_data: Unsupported type: 24\n",
      "column_view::get_data: Unsupported type: 24\n",
      "column_view::get_data: Unsupported type: 24\n"
     ]
    },
    {
     "ename": "",
     "evalue": "",
     "output_type": "error",
     "traceback": [
      "\u001b[1;31mThe Kernel crashed while executing code in the current cell or a previous cell. \n",
      "\u001b[1;31mPlease review the code in the cell(s) to identify a possible cause of the failure. \n",
      "\u001b[1;31mClick <a href='https://aka.ms/vscodeJupyterKernelCrash'>here</a> for more info. \n",
      "\u001b[1;31mView Jupyter <a href='command:jupyter.viewOutput'>log</a> for further details."
     ]
    }
   ],
   "source": [
    "df_line_disruption = merge_lines_disruptions(df_lines, df_disruptions)\n",
    "\n",
    "df_line_disruption.to_csv(\"data/line_disruption.csv\")"
   ]
  },
  {
   "cell_type": "code",
   "execution_count": 25,
   "metadata": {},
   "outputs": [
    {
     "name": "stdout",
     "output_type": "stream",
     "text": [
      "column_view::get_data: Unsupported type: 24\n",
      "column_view::get_data: Unsupported type: 24\n",
      "column_view::get_data: Unsupported type: 24\n",
      "column_view::get_data: Unsupported type: 24\n"
     ]
    },
    {
     "data": {
      "text/plain": [
       "5245"
      ]
     },
     "execution_count": 25,
     "metadata": {},
     "output_type": "execute_result"
    }
   ],
   "source": [
    "len(df_line_disruption)"
   ]
  }
 ],
 "metadata": {
  "kernelspec": {
   "display_name": "base",
   "language": "python",
   "name": "python3"
  },
  "language_info": {
   "codemirror_mode": {
    "name": "ipython",
    "version": 3
   },
   "file_extension": ".py",
   "mimetype": "text/x-python",
   "name": "python",
   "nbconvert_exporter": "python",
   "pygments_lexer": "ipython3",
   "version": "3.12.7"
  }
 },
 "nbformat": 4,
 "nbformat_minor": 2
}
